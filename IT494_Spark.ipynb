{
  "nbformat": 4,
  "nbformat_minor": 0,
  "metadata": {
    "colab": {
      "provenance": []
    },
    "kernelspec": {
      "name": "python3",
      "display_name": "Python 3"
    },
    "language_info": {
      "name": "python"
    }
  },
  "cells": [
    {
      "cell_type": "code",
      "execution_count": null,
      "metadata": {
        "id": "KepC2k7Iohto",
        "colab": {
          "base_uri": "https://localhost:8080/"
        },
        "outputId": "29a36efe-47c6-46cc-a3ad-b1cdca473977"
      },
      "outputs": [
        {
          "output_type": "stream",
          "name": "stdout",
          "text": [
            "\u001b[2K     \u001b[90m━━━━━━━━━━━━━━━━━━━━━━━━━━━━━━━━━━━━━━━━\u001b[0m \u001b[32m316.9/316.9 MB\u001b[0m \u001b[31m4.7 MB/s\u001b[0m eta \u001b[36m0:00:00\u001b[0m\n",
            "\u001b[?25h  Preparing metadata (setup.py) ... \u001b[?25l\u001b[?25hdone\n",
            "  Building wheel for pyspark (setup.py) ... \u001b[?25l\u001b[?25hdone\n"
          ]
        }
      ],
      "source": [
        "!pip install --quiet pyspark"
      ]
    },
    {
      "cell_type": "code",
      "source": [
        "from pyspark import SparkContext, SparkConf\n",
        "conf = SparkConf().setAppName(\"word count\").setMaster(\"local\")\n",
        "sc = SparkContext(conf=conf)"
      ],
      "metadata": {
        "id": "ID3rjQVeoo4j"
      },
      "execution_count": null,
      "outputs": []
    },
    {
      "cell_type": "code",
      "source": [
        "from google.colab import drive\n",
        "drive.mount(\"/content/gdrive\")"
      ],
      "metadata": {
        "colab": {
          "base_uri": "https://localhost:8080/"
        },
        "id": "1aWWMl5Dovpv",
        "outputId": "41468c21-957a-4b67-bef6-4dbe525c6a09"
      },
      "execution_count": null,
      "outputs": [
        {
          "output_type": "stream",
          "name": "stdout",
          "text": [
            "Mounted at /content/gdrive\n"
          ]
        }
      ]
    },
    {
      "cell_type": "code",
      "source": [
        "import time"
      ],
      "metadata": {
        "id": "yh6OibioPUZt"
      },
      "execution_count": null,
      "outputs": []
    },
    {
      "cell_type": "code",
      "source": [
        "lines = sc.textFile(\"/content/gdrive/My Drive/output.txt\")\n",
        "n = float(input(\"Enter Total Number of Node: \"))"
      ],
      "metadata": {
        "colab": {
          "base_uri": "https://localhost:8080/"
        },
        "id": "0jOJVuikorr2",
        "outputId": "b100aefd-c283-4e7f-bd96-255c3f07fd66"
      },
      "execution_count": null,
      "outputs": [
        {
          "name": "stdout",
          "output_type": "stream",
          "text": [
            "Enter Total Number of Node: 100\n"
          ]
        }
      ]
    },
    {
      "cell_type": "code",
      "source": [
        "links = lines.map(lambda s: tuple(s.split())).distinct().groupByKey().cache()\n",
        "ranks = links.mapValues(lambda v: float(1/n))"
      ],
      "metadata": {
        "id": "kFPu3rE-sfPR"
      },
      "execution_count": null,
      "outputs": []
    },
    {
      "cell_type": "code",
      "source": [
        "start_time = time.time()\n",
        "iters = 30\n",
        "for i in range(1, iters + 1):\n",
        "        contribs = links.join(ranks).values().flatMap(lambda x: [(url, x[1] / len(x[0])) for url in x[0]])\n",
        "        ranks = contribs.reduceByKey(lambda x, y: x + y).mapValues(lambda rank: 0.15*(float(1/n)) + 0.85 * rank)\n",
        "\n",
        "output = ranks.collect()\n",
        "end_time = time.time()\n",
        "print(\"Time taken = {:.2f} seconds \".format(end_time - start_time))"
      ],
      "metadata": {
        "colab": {
          "base_uri": "https://localhost:8080/"
        },
        "id": "GVOg07cYsllW",
        "outputId": "1f0a9e02-b9d1-458c-de6c-f3a2738151e6"
      },
      "execution_count": null,
      "outputs": [
        {
          "output_type": "stream",
          "name": "stdout",
          "text": [
            "Time taken = 24.72 seconds \n"
          ]
        }
      ]
    },
    {
      "cell_type": "code",
      "source": [
        "print(\"Time taken = {:.2f} seconds \".format(end_time - start_time))\n",
        "for tup in output:\n",
        "    print(tup[0] + \" has rank: \" + str(tup[1]) + \".\")"
      ],
      "metadata": {
        "colab": {
          "base_uri": "https://localhost:8080/"
        },
        "id": "uxBdGbGBstHn",
        "outputId": "82922da2-84e4-45d4-99a3-af6298888d7c"
      },
      "execution_count": null,
      "outputs": [
        {
          "output_type": "stream",
          "name": "stdout",
          "text": [
            "Time taken = 24.72 seconds \n",
            "31 has rank: 0.007913388157952197.\n",
            "12 has rank: 0.0029003435895349813.\n",
            "82 has rank: 0.004300183015894934.\n",
            "42 has rank: 0.006852386695283425.\n",
            "58 has rank: 0.0025558043146750482.\n",
            "18 has rank: 0.008536200342173523.\n",
            "94 has rank: 0.011460132780618746.\n",
            "15 has rank: 0.005903875961593915.\n",
            "51 has rank: 0.0029103854696883543.\n",
            "68 has rank: 0.014835983783512655.\n",
            "41 has rank: 0.005658354428266624.\n",
            "17 has rank: 0.0029543297926598088.\n",
            "87 has rank: 0.004221315080433038.\n",
            "52 has rank: 0.005811008321131867.\n",
            "65 has rank: 0.004063991547934862.\n",
            "47 has rank: 0.004790558350315879.\n",
            "22 has rank: 0.00415111150094442.\n",
            "59 has rank: 0.006259554037490497.\n",
            "53 has rank: 0.004534357385176844.\n",
            "90 has rank: 0.0056149867216594585.\n",
            "70 has rank: 0.004989208058319568.\n",
            "11 has rank: 0.005117494189059444.\n",
            "48 has rank: 0.00406690584431948.\n",
            "9 has rank: 0.005941399386750498.\n",
            "56 has rank: 0.011667243923148721.\n",
            "62 has rank: 0.0058299427735163355.\n",
            "30 has rank: 0.004923742118838215.\n",
            "10 has rank: 0.009398145240194276.\n",
            "74 has rank: 0.005459849130873587.\n",
            "72 has rank: 0.00541271286655279.\n",
            "35 has rank: 0.004566823285317061.\n",
            "91 has rank: 0.005350420875527449.\n",
            "71 has rank: 0.006166683152674891.\n",
            "75 has rank: 0.010512358206727836.\n",
            "81 has rank: 0.006111433818679592.\n",
            "93 has rank: 0.005400342520106625.\n",
            "8 has rank: 0.009052098324842222.\n",
            "34 has rank: 0.008078565856969493.\n",
            "92 has rank: 0.005900124338605598.\n",
            "84 has rank: 0.011867381648012681.\n",
            "2 has rank: 0.003498882239174881.\n",
            "77 has rank: 0.0021214246753366852.\n",
            "54 has rank: 0.00671626074659.\n",
            "14 has rank: 0.006354756963543812.\n",
            "85 has rank: 0.010671328851130452.\n",
            "43 has rank: 0.0017547613206886407.\n",
            "100 has rank: 0.0056618452821396575.\n",
            "89 has rank: 0.005579782306830877.\n",
            "40 has rank: 0.00316590579689127.\n",
            "1 has rank: 0.0040092035165609444.\n",
            "38 has rank: 0.007122689697274974.\n",
            "63 has rank: 0.0029177993376252975.\n",
            "79 has rank: 0.001856665848964097.\n",
            "99 has rank: 0.005919187583058854.\n",
            "21 has rank: 0.018571270121192404.\n",
            "29 has rank: 0.012652928835317222.\n",
            "7 has rank: 0.009691306946365238.\n",
            "64 has rank: 0.002088083783737452.\n",
            "49 has rank: 0.008566443087163058.\n",
            "46 has rank: 0.004550444595430795.\n",
            "76 has rank: 0.005949187617690123.\n",
            "73 has rank: 0.007385099980026653.\n",
            "32 has rank: 0.006193062436457215.\n",
            "25 has rank: 0.004713962785440792.\n",
            "83 has rank: 0.0071271250342857285.\n",
            "37 has rank: 0.0045282933165060124.\n",
            "24 has rank: 0.00777324416700715.\n",
            "97 has rank: 0.006833812642839001.\n",
            "78 has rank: 0.005639551128655952.\n",
            "96 has rank: 0.010191759641454941.\n",
            "67 has rank: 0.0047522734214072.\n",
            "26 has rank: 0.005779421983883513.\n",
            "39 has rank: 0.0034245623387158574.\n",
            "86 has rank: 0.0063921511455157076.\n",
            "80 has rank: 0.0037177984469435516.\n",
            "33 has rank: 0.003958445761313692.\n",
            "66 has rank: 0.004695204508815141.\n",
            "5 has rank: 0.005128501612766174.\n",
            "61 has rank: 0.0058643158779383055.\n",
            "23 has rank: 0.0032214024069002443.\n",
            "3 has rank: 0.0029304669066423424.\n",
            "88 has rank: 0.0035263069750228154.\n",
            "27 has rank: 0.002142376101281914.\n",
            "98 has rank: 0.005793672603965716.\n",
            "36 has rank: 0.004696543086352649.\n",
            "55 has rank: 0.002201324689780647.\n",
            "60 has rank: 0.004040545935794037.\n",
            "44 has rank: 0.004113902870081794.\n",
            "45 has rank: 0.006093804512487666.\n",
            "69 has rank: 0.004250308700642435.\n",
            "50 has rank: 0.003733940142508733.\n",
            "28 has rank: 0.00992400049012715.\n",
            "95 has rank: 0.0018945419231807242.\n",
            "13 has rank: 0.0020980258221429534.\n",
            "16 has rank: 0.0020980258221429534.\n"
          ]
        }
      ]
    },
    {
      "cell_type": "code",
      "source": [
        "lines = sc.textFile(\"/content/gdrive/My Drive/input.txt\")\n",
        "n = float(input(\"Enter Total Number of Node: \"))"
      ],
      "metadata": {
        "colab": {
          "base_uri": "https://localhost:8080/"
        },
        "id": "wIu0n_QDJGFh",
        "outputId": "c3cd8d2b-25b1-468e-d4ec-8c682028c7ea"
      },
      "execution_count": null,
      "outputs": [
        {
          "name": "stdout",
          "output_type": "stream",
          "text": [
            "Enter Total Number of Node: 100\n"
          ]
        }
      ]
    },
    {
      "cell_type": "code",
      "source": [
        "links = lines.map(lambda s: tuple(s.split())).distinct().groupByKey().cache()\n",
        "ranks = links.mapValues(lambda v: float(1/n))"
      ],
      "metadata": {
        "id": "_B83wH7GMu64"
      },
      "execution_count": null,
      "outputs": []
    },
    {
      "cell_type": "code",
      "source": [
        "start_time = time.time()\n",
        "iters = 30\n",
        "for i in range(1, iters + 1):\n",
        "        contribs = links.join(ranks).values().flatMap(lambda x: [(url, x[1] / len(x[0])) for url in x[0]])\n",
        "        ranks = contribs.reduceByKey(lambda x, y: x + y).mapValues(lambda rank: 0.15*(float(1/n)) + 0.85 * rank)\n",
        "output = sorted(ranks.collect(), key=lambda x: x[1], reverse=True)\n",
        "end_time = time.time()\n",
        "print(\"Time taken = {:.2f} seconds \".format(end_time - start_time))"
      ],
      "metadata": {
        "colab": {
          "base_uri": "https://localhost:8080/"
        },
        "id": "7VsHm1KgM1Hp",
        "outputId": "f1722aa2-d019-4099-d117-91b363cef5bd"
      },
      "execution_count": null,
      "outputs": [
        {
          "output_type": "stream",
          "name": "stdout",
          "text": [
            "Time taken = 33.78 seconds \n"
          ]
        }
      ]
    },
    {
      "cell_type": "code",
      "source": [
        "print(\"Time taken = {:.2f} seconds \".format(end_time - start_time))\n",
        "for tup in output:\n",
        "    print(tup[0] + \" has rank: \" + str(tup[1]) + \".\")"
      ],
      "metadata": {
        "colab": {
          "base_uri": "https://localhost:8080/"
        },
        "id": "WyHzMkc2M5NX",
        "outputId": "48eb9823-cd3b-4a4d-ae7e-03d524843930"
      },
      "execution_count": null,
      "outputs": [
        {
          "output_type": "stream",
          "name": "stdout",
          "text": [
            "Time taken = 33.78 seconds \n",
            "4 has rank: 0.0260881526509398.\n",
            "11 has rank: 0.0252404727071831.\n",
            "96 has rank: 0.024681860697441865.\n",
            "56 has rank: 0.02294406766805158.\n",
            "32 has rank: 0.02259608106694481.\n",
            "94 has rank: 0.021699758316991263.\n",
            "15 has rank: 0.020216475964168968.\n",
            "65 has rank: 0.020057170888074752.\n",
            "95 has rank: 0.01951607165438011.\n",
            "90 has rank: 0.019032649048991507.\n",
            "99 has rank: 0.01825106603342511.\n",
            "2 has rank: 0.017939986871202025.\n",
            "35 has rank: 0.01762502095862399.\n",
            "78 has rank: 0.017155637961505963.\n",
            "53 has rank: 0.01697066936984118.\n",
            "27 has rank: 0.016616373091548522.\n",
            "70 has rank: 0.016450677748628878.\n",
            "8 has rank: 0.016292474885474927.\n",
            "73 has rank: 0.015695548255624366.\n",
            "97 has rank: 0.014311504860766782.\n",
            "71 has rank: 0.013486239300600177.\n",
            "29 has rank: 0.013158889943052966.\n",
            "10 has rank: 0.012549509254280299.\n",
            "57 has rank: 0.012272620593678526.\n",
            "5 has rank: 0.012040865591391649.\n",
            "30 has rank: 0.012022286368888834.\n",
            "98 has rank: 0.012013289841741714.\n",
            "77 has rank: 0.011858202459164406.\n",
            "17 has rank: 0.011632489755565535.\n",
            "7 has rank: 0.011625330428446668.\n",
            "79 has rank: 0.011480673356645472.\n",
            "47 has rank: 0.011382953706876121.\n",
            "68 has rank: 0.011258798847460585.\n",
            "28 has rank: 0.011015188093887837.\n",
            "52 has rank: 0.010919059779720923.\n",
            "13 has rank: 0.010683543623215419.\n",
            "84 has rank: 0.010620987186402402.\n",
            "82 has rank: 0.01038683361095465.\n",
            "81 has rank: 0.010102440717127388.\n",
            "63 has rank: 0.009971591710402818.\n",
            "83 has rank: 0.009926097806256438.\n",
            "22 has rank: 0.009727243609340611.\n",
            "43 has rank: 0.009684140531738937.\n",
            "23 has rank: 0.009674295769396647.\n",
            "39 has rank: 0.009610733770086487.\n",
            "80 has rank: 0.00960713829476575.\n",
            "19 has rank: 0.009523004339157965.\n",
            "36 has rank: 0.009495923508559047.\n",
            "33 has rank: 0.009393351229357097.\n",
            "40 has rank: 0.009164332764801136.\n",
            "1 has rank: 0.009139574513460924.\n",
            "42 has rank: 0.008957098970128946.\n",
            "67 has rank: 0.008633304550358809.\n",
            "18 has rank: 0.008577736161867782.\n",
            "100 has rank: 0.008493106712079982.\n",
            "75 has rank: 0.008322370822863034.\n",
            "92 has rank: 0.008145527438438839.\n",
            "20 has rank: 0.007856790206748544.\n",
            "85 has rank: 0.007620264106063493.\n",
            "64 has rank: 0.007543836630627174.\n",
            "16 has rank: 0.007531855133563213.\n",
            "45 has rank: 0.007299668027533663.\n",
            "66 has rank: 0.007069131884216519.\n",
            "38 has rank: 0.006904489389853061.\n",
            "37 has rank: 0.006864452626732964.\n",
            "60 has rank: 0.006481067722530064.\n",
            "31 has rank: 0.006367122173953256.\n",
            "14 has rank: 0.006132284097917717.\n",
            "25 has rank: 0.006105152897049521.\n",
            "91 has rank: 0.005947072013663334.\n",
            "61 has rank: 0.0057872230966187765.\n",
            "72 has rank: 0.0057379369334696045.\n",
            "3 has rank: 0.00571411557010949.\n",
            "46 has rank: 0.005486693070539967.\n",
            "54 has rank: 0.00539213399183421.\n",
            "87 has rank: 0.004689256953715327.\n",
            "34 has rank: 0.004687600527956806.\n",
            "89 has rank: 0.004680573146817371.\n",
            "26 has rank: 0.004564914549033575.\n",
            "24 has rank: 0.004406364789180185.\n",
            "62 has rank: 0.004372471695829353.\n",
            "21 has rank: 0.004223041239469125.\n",
            "9 has rank: 0.004195034662620807.\n",
            "69 has rank: 0.004178177978537598.\n",
            "41 has rank: 0.003935513612265809.\n",
            "6 has rank: 0.003875514747062.\n",
            "12 has rank: 0.003831040257022051.\n",
            "93 has rank: 0.003791656948931582.\n",
            "44 has rank: 0.0037652089794363384.\n",
            "48 has rank: 0.0037162008797036483.\n",
            "58 has rank: 0.0037133644586739563.\n",
            "55 has rank: 0.003612665918901143.\n",
            "88 has rank: 0.003454315848280533.\n",
            "50 has rank: 0.0027972874420461057.\n",
            "74 has rank: 0.002679002534954113.\n",
            "49 has rank: 0.0024713996482531573.\n",
            "86 has rank: 0.0023362966437135246.\n",
            "51 has rank: 0.0022433201891514077.\n"
          ]
        }
      ]
    }
  ]
}